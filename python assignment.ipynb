{
 "cells": [
  {
   "cell_type": "markdown",
   "id": "cb4a2049",
   "metadata": {},
   "source": [
    "### write a programe to print yourself intro...\n",
    "Basic input output 1"
   ]
  },
  {
   "cell_type": "code",
   "execution_count": 16,
   "id": "f55017cd",
   "metadata": {},
   "outputs": [],
   "source": [
    "intro=\"Hii my name is shruti .i am from betul .\""
   ]
  },
  {
   "cell_type": "code",
   "execution_count": 17,
   "id": "0a3f7568",
   "metadata": {},
   "outputs": [
    {
     "name": "stdout",
     "output_type": "stream",
     "text": [
      "Hii my name is shruti .i am from betul .\n"
     ]
    }
   ],
   "source": [
    "print(intro)"
   ]
  },
  {
   "cell_type": "markdown",
   "id": "e8bd1fd3",
   "metadata": {},
   "source": [
    "### write a prog.to perform the following\n",
    "1.Addition-"
   ]
  },
  {
   "cell_type": "code",
   "execution_count": 18,
   "id": "6e6d82df",
   "metadata": {},
   "outputs": [
    {
     "name": "stdout",
     "output_type": "stream",
     "text": [
      "enter the first no.3\n",
      "enter the second no.4\n",
      "enter the third no.5\n",
      "The addition of a ,b and c is = 12\n"
     ]
    }
   ],
   "source": [
    "a=int(input('enter the first no.'))\n",
    "b=int(input('enter the second no.'))\n",
    "c=int(input('enter the third no.'))\n",
    "add=a+b+c\n",
    "print('The addition of a ,b and c is =',add)"
   ]
  },
  {
   "cell_type": "markdown",
   "id": "3d892b32",
   "metadata": {},
   "source": [
    "#### 2.substraction "
   ]
  },
  {
   "cell_type": "code",
   "execution_count": 19,
   "id": "32f0e3d5",
   "metadata": {},
   "outputs": [
    {
     "name": "stdout",
     "output_type": "stream",
     "text": [
      "enter first no.3\n",
      "enter second no4\n",
      "enter third no.4\n",
      "subtraction of a,b and c is= -5\n"
     ]
    }
   ],
   "source": [
    "a=int(input('enter first no.'))\n",
    "b=int(input('enter second no'))\n",
    "c=int(input('enter third no.'))\n",
    "sub=a-b-c\n",
    "print('subtraction of a,b and c is=',sub)"
   ]
  },
  {
   "cell_type": "markdown",
   "id": "c891239e",
   "metadata": {},
   "source": [
    "3.Multiplication"
   ]
  },
  {
   "cell_type": "code",
   "execution_count": null,
   "id": "c38dbb6b",
   "metadata": {},
   "outputs": [],
   "source": [
    "a=int(input('enter the first no.'))\n",
    "b=int(input('enter the second no.'))\n",
    "c=int(input('enter the third no.'))\n",
    "print('The multiplication of a,b and c is=',a*b*c)"
   ]
  },
  {
   "cell_type": "markdown",
   "id": "843e2a85",
   "metadata": {},
   "source": [
    "4.Division"
   ]
  },
  {
   "cell_type": "code",
   "execution_count": null,
   "id": "abbb0021",
   "metadata": {},
   "outputs": [],
   "source": [
    "a=int(input('enter the first no.'))\n",
    "b=int(input('enter the second no.'))\n",
    "div=a/b\n",
    "print('The division of num,num1 and num2 is =',div)"
   ]
  },
  {
   "cell_type": "markdown",
   "id": "779716a1",
   "metadata": {},
   "source": [
    "##### 5.Modulus"
   ]
  },
  {
   "cell_type": "code",
   "execution_count": null,
   "id": "dcd65d52",
   "metadata": {},
   "outputs": [],
   "source": [
    "a=int(input('enter the first no.'))\n",
    "b=int(input('enter the second no.'))\n",
    "mod=a%b\n",
    "print('The mod of a and b is=',mod)"
   ]
  },
  {
   "cell_type": "markdown",
   "id": "9f0e6c38",
   "metadata": {},
   "source": [
    "6.Exponent "
   ]
  },
  {
   "cell_type": "code",
   "execution_count": null,
   "id": "d6394d82",
   "metadata": {},
   "outputs": [],
   "source": [
    "m=int(input('enter the first no.'))\n",
    "n=int(input('enter the seocnd no'))\n",
    "pow=m**n\n",
    "print('Exponent is',pow)"
   ]
  },
  {
   "cell_type": "markdown",
   "id": "e17b9614",
   "metadata": {},
   "source": [
    "### Write a prog. to swap two numbers."
   ]
  },
  {
   "cell_type": "code",
   "execution_count": null,
   "id": "c49ea4bd",
   "metadata": {},
   "outputs": [],
   "source": [
    "num1=int(input('enter the first no.'))\n",
    "num2=int(input('enter the second no.'))\n",
    "num=num1\n",
    "num1=num2\n",
    "num2=num\n",
    "print('swapped number are',num1,num2)\n"
   ]
  },
  {
   "cell_type": "markdown",
   "id": "c8abe024",
   "metadata": {},
   "source": [
    "### write a prog. to swap two numbers without using third variable.\n"
   ]
  },
  {
   "cell_type": "code",
   "execution_count": null,
   "id": "9d38b365",
   "metadata": {},
   "outputs": [],
   "source": [
    "a=int(input('enter the first number'))\n",
    "b=int(input('enter the second no.'))\n",
    "a,b=b,a\n",
    "print(\"a: \",a)\n",
    "print(\"b: \",b)"
   ]
  },
  {
   "cell_type": "markdown",
   "id": "dfd9d275",
   "metadata": {},
   "source": [
    "### Write a programe to compute simple intrest."
   ]
  },
  {
   "cell_type": "code",
   "execution_count": null,
   "id": "afadf067",
   "metadata": {},
   "outputs": [],
   "source": [
    "principal=float(input('enter principle:'))\n",
    "rate=float(input('enter rate of intrest:'))\n",
    "time=float(input('enter time:'))\n",
    "si=principal*rate*time/100\n",
    "print(\"simple intrest is\",si)"
   ]
  },
  {
   "cell_type": "markdown",
   "id": "f5b73b7a",
   "metadata": {},
   "source": [
    "### Write a prog. to find average of five no.by user input."
   ]
  },
  {
   "cell_type": "code",
   "execution_count": null,
   "id": "9f4b0cf6",
   "metadata": {},
   "outputs": [],
   "source": [
    "a=int(input('enter the first no.'))\n",
    "b=int(input('enter the second no.'))\n",
    "c=int(input('enter the third no.'))\n",
    "d=int(input('enter the fourth no.'))\n",
    "e=int(input('enter the fifth no.'))\n",
    "avg=a+b+c+d+e/5\n",
    "print('The average of a,b,c,d and e is=',avg)"
   ]
  },
  {
   "cell_type": "markdown",
   "id": "b6b4938d",
   "metadata": {},
   "source": [
    "### write a prog. to calculate the discriminant of a Quadratic equation"
   ]
  },
  {
   "cell_type": "code",
   "execution_count": null,
   "id": "5096ef9f",
   "metadata": {},
   "outputs": [],
   "source": [
    "#Quadrative equation-\n",
    "\n",
    "a=int(input('enter no.:'))\n",
    "b=int(input('enter no.:'))\n",
    "c=int(input('enter no.:'))\n",
    "dis=(b*b)-(4*a*c)\n",
    "print('discriminant is',dis)\n"
   ]
  },
  {
   "cell_type": "markdown",
   "id": "edbd8ed5",
   "metadata": {},
   "source": [
    "### Write a prog. to calculate the area of the following shapes\n",
    "#### Rectangle"
   ]
  },
  {
   "cell_type": "code",
   "execution_count": null,
   "id": "b96c9828",
   "metadata": {},
   "outputs": [],
   "source": [
    "#area of rectangle\n",
    "l=int(input('enter the num'))\n",
    "b=int(input('enter the num'))\n",
    "area=l*b\n",
    "print('area of rectangle:',area)"
   ]
  },
  {
   "cell_type": "markdown",
   "id": "cd7d66ed",
   "metadata": {},
   "source": [
    "#### Square"
   ]
  },
  {
   "cell_type": "code",
   "execution_count": null,
   "id": "9a3b6475",
   "metadata": {},
   "outputs": [],
   "source": [
    "#area of squre\n",
    "side=int(input(\"enter the side of square\"))\n",
    "area=side*side\n",
    "print(\"area of square:\",area)"
   ]
  },
  {
   "cell_type": "markdown",
   "id": "85babda8",
   "metadata": {},
   "source": [
    "#### Triangle "
   ]
  },
  {
   "cell_type": "code",
   "execution_count": null,
   "id": "e314ce8b",
   "metadata": {},
   "outputs": [],
   "source": [
    "#area of triangle\n",
    "base=int(input('enter base='))\n",
    "hyt=int(input('enter hyt='))\n",
    "\n",
    "area=0.5*base*hyt\n",
    "print('area of triangle is=',area)\n"
   ]
  },
  {
   "cell_type": "markdown",
   "id": "5088c092",
   "metadata": {},
   "source": [
    "#### Circle "
   ]
  },
  {
   "cell_type": "code",
   "execution_count": null,
   "id": "3ac9957d",
   "metadata": {},
   "outputs": [],
   "source": [
    "r=int(input('enter radius'))\n",
    "area=3.14*r*r\n",
    "print('Area is',area)\n",
    "\n"
   ]
  },
  {
   "cell_type": "markdown",
   "id": "38083afd",
   "metadata": {},
   "source": [
    "#### write a program to claculate the net salary of employee whose basic salary is entered by user DA 5% of basic salary HRA is 7% and PF is 3% of basis salary."
   ]
  },
  {
   "cell_type": "code",
   "execution_count": null,
   "id": "fb5c825b",
   "metadata": {},
   "outputs": [],
   "source": [
    "sal=int(input('enter the basic salary:'))\n",
    "\n",
    "DA=(sal*0.5)\n",
    "HRA=(sal*0.7)\n",
    "PF=(sal*0.3)\n",
    "\n",
    "net_salary= sal+DA+HRA+PF\n",
    "print('the net salary of employee:',net_salary)"
   ]
  },
  {
   "cell_type": "markdown",
   "id": "1653457e",
   "metadata": {},
   "source": [
    "### write a prog. to calculate power of a number"
   ]
  },
  {
   "cell_type": "code",
   "execution_count": null,
   "id": "f0febfc9",
   "metadata": {},
   "outputs": [],
   "source": [
    "a=int(input('enter the no.'))\n",
    "b=int(input('enter the power'))\n",
    "pow=a**b\n",
    "print('The power of a and b is',pow)"
   ]
  },
  {
   "cell_type": "markdown",
   "id": "1409b044",
   "metadata": {},
   "source": [
    "### Write a prog. to get the python version you are using."
   ]
  },
  {
   "cell_type": "code",
   "execution_count": null,
   "id": "afde7da8",
   "metadata": {},
   "outputs": [],
   "source": [
    "from platform import python_version\n",
    "print(python_version())"
   ]
  },
  {
   "cell_type": "markdown",
   "id": "900870fa",
   "metadata": {},
   "source": [
    "### Write a prog. to enter a number between (1,12) and print the respective month."
   ]
  },
  {
   "cell_type": "code",
   "execution_count": null,
   "id": "0dd5782d",
   "metadata": {},
   "outputs": [],
   "source": [
    "a=int(input('input a no.to print the name of month:-'))\n",
    "if a==1:\n",
    "    print('january')\n",
    "elif a==2:\n",
    "    print('february')\n",
    "elif a==3:\n",
    "    print('march')\n",
    "elif a==4:\n",
    "    print('apr')\n",
    "elif a==5:\n",
    "    print('may')\n",
    "elif a==6:\n",
    "    print('jun')\n",
    "elif a==7:\n",
    "    print('july')\n",
    "elif a==8:\n",
    "    print('aug')\n",
    "elif a==9:\n",
    "    print('sep')\n",
    "elif a==10:\n",
    "    print('oct')\n",
    "elif a==11:\n",
    "    print('nov')\n",
    "elif a==12:\n",
    "    print('dec')"
   ]
  },
  {
   "cell_type": "code",
   "execution_count": null,
   "id": "b7f680f3",
   "metadata": {},
   "outputs": [],
   "source": [
    "sum=1\n",
    "for i in range(4):\n",
    "    sum=sum+i\n",
    "    print(sum)    "
   ]
  },
  {
   "cell_type": "code",
   "execution_count": null,
   "id": "cdf807bd",
   "metadata": {},
   "outputs": [],
   "source": [
    "sub=1\n",
    "for i in range(4):\n",
    "    sub=sub-i\n",
    "    print(sub)    "
   ]
  },
  {
   "cell_type": "code",
   "execution_count": null,
   "id": "86651116",
   "metadata": {},
   "outputs": [],
   "source": [
    "  "
   ]
  },
  {
   "cell_type": "code",
   "execution_count": null,
   "id": "3211b8ce",
   "metadata": {},
   "outputs": [],
   "source": []
  },
  {
   "cell_type": "code",
   "execution_count": null,
   "id": "be86c7f3",
   "metadata": {},
   "outputs": [],
   "source": []
  },
  {
   "cell_type": "code",
   "execution_count": null,
   "id": "883744f0",
   "metadata": {},
   "outputs": [],
   "source": []
  },
  {
   "cell_type": "code",
   "execution_count": null,
   "id": "dad35150",
   "metadata": {},
   "outputs": [],
   "source": []
  },
  {
   "cell_type": "code",
   "execution_count": null,
   "id": "d02373b2",
   "metadata": {},
   "outputs": [],
   "source": []
  },
  {
   "cell_type": "code",
   "execution_count": null,
   "id": "9dd02dc1",
   "metadata": {},
   "outputs": [],
   "source": []
  },
  {
   "cell_type": "code",
   "execution_count": null,
   "id": "46f66e27",
   "metadata": {},
   "outputs": [],
   "source": []
  }
 ],
 "metadata": {
  "kernelspec": {
   "display_name": "Python 3 (ipykernel)",
   "language": "python",
   "name": "python3"
  },
  "language_info": {
   "codemirror_mode": {
    "name": "ipython",
    "version": 3
   },
   "file_extension": ".py",
   "mimetype": "text/x-python",
   "name": "python",
   "nbconvert_exporter": "python",
   "pygments_lexer": "ipython3",
   "version": "3.9.13"
  }
 },
 "nbformat": 4,
 "nbformat_minor": 5
}
